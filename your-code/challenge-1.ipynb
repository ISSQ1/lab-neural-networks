{
 "cells": [
  {
   "cell_type": "markdown",
   "metadata": {},
   "source": [
    "# Challenge 1 - Tic Tac Toe\n",
    "\n",
    "In this lab you will perform deep learning analysis on a dataset of playing [Tic Tac Toe](https://en.wikipedia.org/wiki/Tic-tac-toe).\n",
    "\n",
    "There are 9 grids in Tic Tac Toe that are coded as the following picture shows:\n",
    "\n",
    "![Tic Tac Toe Grids](tttboard.jpg)\n",
    "\n",
    "In the first 9 columns of the dataset you can find which marks (`x` or `o`) exist in the grids. If there is no mark in a certain grid, it is labeled as `b`. The last column is `class` which tells you whether Player X (who always moves first in Tic Tac Toe) wins in this configuration. Note that when `class` has the value `False`, it means either Player O wins the game or it ends up as a draw."
   ]
  },
  {
   "cell_type": "markdown",
   "metadata": {},
   "source": [
    "Follow the steps suggested below to conduct a neural network analysis using Tensorflow and Keras. You will build a deep learning model to predict whether Player X wins the game or not.\n",
    "\n",
    "## Step 1: Data Engineering\n",
    "\n",
    "This dataset is almost in the ready-to-use state so you do not need to worry about missing values and so on. Still, some simple data engineering is needed.\n",
    "\n",
    "1. Read `tic-tac-toe.csv` into a dataframe.\n",
    "1. Inspect the dataset. Determine if the dataset is reliable by eyeballing the data.\n",
    "1. Convert the categorical values to numeric in all columns.\n",
    "1. Separate the inputs and output.\n",
    "1. Normalize the input data."
   ]
  },
  {
   "cell_type": "code",
   "execution_count": 2,
   "metadata": {},
   "outputs": [
    {
     "data": {
      "text/html": [
       "<div>\n",
       "<style scoped>\n",
       "    .dataframe tbody tr th:only-of-type {\n",
       "        vertical-align: middle;\n",
       "    }\n",
       "\n",
       "    .dataframe tbody tr th {\n",
       "        vertical-align: top;\n",
       "    }\n",
       "\n",
       "    .dataframe thead th {\n",
       "        text-align: right;\n",
       "    }\n",
       "</style>\n",
       "<table border=\"1\" class=\"dataframe\">\n",
       "  <thead>\n",
       "    <tr style=\"text-align: right;\">\n",
       "      <th></th>\n",
       "      <th>TL</th>\n",
       "      <th>TM</th>\n",
       "      <th>TR</th>\n",
       "      <th>ML</th>\n",
       "      <th>MM</th>\n",
       "      <th>MR</th>\n",
       "      <th>BL</th>\n",
       "      <th>BM</th>\n",
       "      <th>BR</th>\n",
       "      <th>class</th>\n",
       "    </tr>\n",
       "  </thead>\n",
       "  <tbody>\n",
       "    <tr>\n",
       "      <th>0</th>\n",
       "      <td>x</td>\n",
       "      <td>x</td>\n",
       "      <td>x</td>\n",
       "      <td>x</td>\n",
       "      <td>o</td>\n",
       "      <td>o</td>\n",
       "      <td>x</td>\n",
       "      <td>o</td>\n",
       "      <td>o</td>\n",
       "      <td>True</td>\n",
       "    </tr>\n",
       "    <tr>\n",
       "      <th>1</th>\n",
       "      <td>x</td>\n",
       "      <td>x</td>\n",
       "      <td>x</td>\n",
       "      <td>x</td>\n",
       "      <td>o</td>\n",
       "      <td>o</td>\n",
       "      <td>o</td>\n",
       "      <td>x</td>\n",
       "      <td>o</td>\n",
       "      <td>True</td>\n",
       "    </tr>\n",
       "    <tr>\n",
       "      <th>2</th>\n",
       "      <td>x</td>\n",
       "      <td>x</td>\n",
       "      <td>x</td>\n",
       "      <td>x</td>\n",
       "      <td>o</td>\n",
       "      <td>o</td>\n",
       "      <td>o</td>\n",
       "      <td>o</td>\n",
       "      <td>x</td>\n",
       "      <td>True</td>\n",
       "    </tr>\n",
       "    <tr>\n",
       "      <th>3</th>\n",
       "      <td>x</td>\n",
       "      <td>x</td>\n",
       "      <td>x</td>\n",
       "      <td>x</td>\n",
       "      <td>o</td>\n",
       "      <td>o</td>\n",
       "      <td>o</td>\n",
       "      <td>b</td>\n",
       "      <td>b</td>\n",
       "      <td>True</td>\n",
       "    </tr>\n",
       "    <tr>\n",
       "      <th>4</th>\n",
       "      <td>x</td>\n",
       "      <td>x</td>\n",
       "      <td>x</td>\n",
       "      <td>x</td>\n",
       "      <td>o</td>\n",
       "      <td>o</td>\n",
       "      <td>b</td>\n",
       "      <td>o</td>\n",
       "      <td>b</td>\n",
       "      <td>True</td>\n",
       "    </tr>\n",
       "  </tbody>\n",
       "</table>\n",
       "</div>"
      ],
      "text/plain": [
       "  TL TM TR ML MM MR BL BM BR  class\n",
       "0  x  x  x  x  o  o  x  o  o   True\n",
       "1  x  x  x  x  o  o  o  x  o   True\n",
       "2  x  x  x  x  o  o  o  o  x   True\n",
       "3  x  x  x  x  o  o  o  b  b   True\n",
       "4  x  x  x  x  o  o  b  o  b   True"
      ]
     },
     "execution_count": 2,
     "metadata": {},
     "output_type": "execute_result"
    }
   ],
   "source": [
    "# your code here\n",
    "import pandas as pd\n",
    "df = pd.read_csv('tic-tac-toe.csv')\n",
    "df.head()"
   ]
  },
  {
   "cell_type": "code",
   "execution_count": 5,
   "metadata": {},
   "outputs": [
    {
     "name": "stdout",
     "output_type": "stream",
     "text": [
      "<class 'pandas.core.frame.DataFrame'>\n",
      "RangeIndex: 958 entries, 0 to 957\n",
      "Data columns (total 10 columns):\n",
      " #   Column  Non-Null Count  Dtype \n",
      "---  ------  --------------  ----- \n",
      " 0   TL      958 non-null    object\n",
      " 1   TM      958 non-null    object\n",
      " 2   TR      958 non-null    object\n",
      " 3   ML      958 non-null    object\n",
      " 4   MM      958 non-null    object\n",
      " 5   MR      958 non-null    object\n",
      " 6   BL      958 non-null    object\n",
      " 7   BM      958 non-null    object\n",
      " 8   BR      958 non-null    object\n",
      " 9   class   958 non-null    bool  \n",
      "dtypes: bool(1), object(9)\n",
      "memory usage: 68.4+ KB\n"
     ]
    }
   ],
   "source": [
    "df.info()"
   ]
  },
  {
   "cell_type": "code",
   "execution_count": 7,
   "metadata": {},
   "outputs": [
    {
     "data": {
      "text/html": [
       "<div>\n",
       "<style scoped>\n",
       "    .dataframe tbody tr th:only-of-type {\n",
       "        vertical-align: middle;\n",
       "    }\n",
       "\n",
       "    .dataframe tbody tr th {\n",
       "        vertical-align: top;\n",
       "    }\n",
       "\n",
       "    .dataframe thead th {\n",
       "        text-align: right;\n",
       "    }\n",
       "</style>\n",
       "<table border=\"1\" class=\"dataframe\">\n",
       "  <thead>\n",
       "    <tr style=\"text-align: right;\">\n",
       "      <th></th>\n",
       "      <th>TL</th>\n",
       "      <th>TM</th>\n",
       "      <th>TR</th>\n",
       "      <th>ML</th>\n",
       "      <th>MM</th>\n",
       "      <th>MR</th>\n",
       "      <th>BL</th>\n",
       "      <th>BM</th>\n",
       "      <th>BR</th>\n",
       "      <th>class</th>\n",
       "    </tr>\n",
       "  </thead>\n",
       "  <tbody>\n",
       "    <tr>\n",
       "      <th>count</th>\n",
       "      <td>958</td>\n",
       "      <td>958</td>\n",
       "      <td>958</td>\n",
       "      <td>958</td>\n",
       "      <td>958</td>\n",
       "      <td>958</td>\n",
       "      <td>958</td>\n",
       "      <td>958</td>\n",
       "      <td>958</td>\n",
       "      <td>958</td>\n",
       "    </tr>\n",
       "    <tr>\n",
       "      <th>unique</th>\n",
       "      <td>3</td>\n",
       "      <td>3</td>\n",
       "      <td>3</td>\n",
       "      <td>3</td>\n",
       "      <td>3</td>\n",
       "      <td>3</td>\n",
       "      <td>3</td>\n",
       "      <td>3</td>\n",
       "      <td>3</td>\n",
       "      <td>2</td>\n",
       "    </tr>\n",
       "    <tr>\n",
       "      <th>top</th>\n",
       "      <td>x</td>\n",
       "      <td>x</td>\n",
       "      <td>x</td>\n",
       "      <td>x</td>\n",
       "      <td>x</td>\n",
       "      <td>x</td>\n",
       "      <td>x</td>\n",
       "      <td>x</td>\n",
       "      <td>x</td>\n",
       "      <td>True</td>\n",
       "    </tr>\n",
       "    <tr>\n",
       "      <th>freq</th>\n",
       "      <td>418</td>\n",
       "      <td>378</td>\n",
       "      <td>418</td>\n",
       "      <td>378</td>\n",
       "      <td>458</td>\n",
       "      <td>378</td>\n",
       "      <td>418</td>\n",
       "      <td>378</td>\n",
       "      <td>418</td>\n",
       "      <td>626</td>\n",
       "    </tr>\n",
       "  </tbody>\n",
       "</table>\n",
       "</div>"
      ],
      "text/plain": [
       "         TL   TM   TR   ML   MM   MR   BL   BM   BR class\n",
       "count   958  958  958  958  958  958  958  958  958   958\n",
       "unique    3    3    3    3    3    3    3    3    3     2\n",
       "top       x    x    x    x    x    x    x    x    x  True\n",
       "freq    418  378  418  378  458  378  418  378  418   626"
      ]
     },
     "execution_count": 7,
     "metadata": {},
     "output_type": "execute_result"
    }
   ],
   "source": [
    "df.describe()"
   ]
  },
  {
   "cell_type": "code",
   "execution_count": 16,
   "metadata": {},
   "outputs": [],
   "source": [
    "# Convert the categorical values to numeric in all columns.\n",
    "mapping = {'x': 1, 'o': -1, 'b': 0}\n",
    "df.replace(mapping, inplace=True)\n",
    "df['class'] = df['class'].astype(int)"
   ]
  },
  {
   "cell_type": "code",
   "execution_count": 17,
   "metadata": {},
   "outputs": [
    {
     "name": "stdout",
     "output_type": "stream",
     "text": [
      "<class 'pandas.core.frame.DataFrame'>\n",
      "RangeIndex: 958 entries, 0 to 957\n",
      "Data columns (total 10 columns):\n",
      " #   Column  Non-Null Count  Dtype\n",
      "---  ------  --------------  -----\n",
      " 0   TL      958 non-null    int64\n",
      " 1   TM      958 non-null    int64\n",
      " 2   TR      958 non-null    int64\n",
      " 3   ML      958 non-null    int64\n",
      " 4   MM      958 non-null    int64\n",
      " 5   MR      958 non-null    int64\n",
      " 6   BL      958 non-null    int64\n",
      " 7   BM      958 non-null    int64\n",
      " 8   BR      958 non-null    int64\n",
      " 9   class   958 non-null    int32\n",
      "dtypes: int32(1), int64(9)\n",
      "memory usage: 71.2 KB\n"
     ]
    }
   ],
   "source": [
    "df.info()"
   ]
  },
  {
   "cell_type": "code",
   "execution_count": 18,
   "metadata": {},
   "outputs": [],
   "source": [
    "# Separate the inputs and output.\n",
    "X = df.drop(columns='class')\n",
    "y = df['class']"
   ]
  },
  {
   "cell_type": "code",
   "execution_count": 19,
   "metadata": {},
   "outputs": [],
   "source": [
    "# Normalize the input data.\n",
    "from sklearn.preprocessing import MinMaxScaler\n",
    "\n",
    "scaler = MinMaxScaler(feature_range=(-1, 1))\n",
    "X = scaler.fit_transform(X)"
   ]
  },
  {
   "cell_type": "markdown",
   "metadata": {},
   "source": [
    "## Step 2: Build Neural Network\n",
    "\n",
    "To build the neural network, you can refer to your own codes you wrote while following the [Deep Learning with Python, TensorFlow, and Keras tutorial](https://www.youtube.com/watch?v=wQ8BIBpya2k) in the lesson. It's pretty similar to what you will be doing in this lab.\n",
    "\n",
    "1. Split the training and test data.\n",
    "1. Create a `Sequential` model.\n",
    "1. Add several layers to your model. Make sure you use ReLU as the activation function for the middle layers. Use Softmax for the output layer because each output has a single lable and all the label probabilities add up to 1.\n",
    "1. Compile the model using `adam` as the optimizer and `sparse_categorical_crossentropy` as the loss function. For metrics, use `accuracy` for now.\n",
    "1. Fit the training data.\n",
    "1. Evaluate your neural network model with the test data.\n",
    "1. Save your model as `tic-tac-toe.model`."
   ]
  },
  {
   "cell_type": "code",
   "execution_count": 20,
   "metadata": {},
   "outputs": [
    {
     "name": "stdout",
     "output_type": "stream",
     "text": [
      "Epoch 1/20\n",
      "96/96 [==============================] - 2s 7ms/step - loss: 0.6290 - accuracy: 0.6593 - val_loss: 0.5959 - val_accuracy: 0.7083\n",
      "Epoch 2/20\n",
      "96/96 [==============================] - 0s 3ms/step - loss: 0.5544 - accuracy: 0.7415 - val_loss: 0.5459 - val_accuracy: 0.7448\n",
      "Epoch 3/20\n",
      "96/96 [==============================] - 0s 4ms/step - loss: 0.5038 - accuracy: 0.7794 - val_loss: 0.5001 - val_accuracy: 0.7812\n",
      "Epoch 4/20\n",
      "96/96 [==============================] - 0s 3ms/step - loss: 0.4563 - accuracy: 0.7911 - val_loss: 0.4552 - val_accuracy: 0.8021\n",
      "Epoch 5/20\n",
      "96/96 [==============================] - 0s 3ms/step - loss: 0.4003 - accuracy: 0.8460 - val_loss: 0.4045 - val_accuracy: 0.8229\n",
      "Epoch 6/20\n",
      "96/96 [==============================] - 0s 3ms/step - loss: 0.3411 - accuracy: 0.8916 - val_loss: 0.3476 - val_accuracy: 0.8542\n",
      "Epoch 7/20\n",
      "96/96 [==============================] - 0s 3ms/step - loss: 0.2743 - accuracy: 0.9295 - val_loss: 0.2761 - val_accuracy: 0.9167\n",
      "Epoch 8/20\n",
      "96/96 [==============================] - 0s 2ms/step - loss: 0.2089 - accuracy: 0.9621 - val_loss: 0.2099 - val_accuracy: 0.9479\n",
      "Epoch 9/20\n",
      "96/96 [==============================] - 0s 2ms/step - loss: 0.1554 - accuracy: 0.9804 - val_loss: 0.1643 - val_accuracy: 0.9740\n",
      "Epoch 10/20\n",
      "96/96 [==============================] - 0s 2ms/step - loss: 0.1166 - accuracy: 0.9869 - val_loss: 0.1290 - val_accuracy: 0.9740\n",
      "Epoch 11/20\n",
      "96/96 [==============================] - 0s 2ms/step - loss: 0.0878 - accuracy: 0.9883 - val_loss: 0.1059 - val_accuracy: 0.9740\n",
      "Epoch 12/20\n",
      "96/96 [==============================] - 0s 2ms/step - loss: 0.0716 - accuracy: 0.9896 - val_loss: 0.0974 - val_accuracy: 0.9792\n",
      "Epoch 13/20\n",
      "96/96 [==============================] - 0s 3ms/step - loss: 0.0570 - accuracy: 0.9883 - val_loss: 0.0989 - val_accuracy: 0.9792\n",
      "Epoch 14/20\n",
      "96/96 [==============================] - 0s 2ms/step - loss: 0.0472 - accuracy: 0.9883 - val_loss: 0.0727 - val_accuracy: 0.9792\n",
      "Epoch 15/20\n",
      "96/96 [==============================] - 0s 2ms/step - loss: 0.0373 - accuracy: 0.9896 - val_loss: 0.0756 - val_accuracy: 0.9792\n",
      "Epoch 16/20\n",
      "96/96 [==============================] - 0s 2ms/step - loss: 0.0318 - accuracy: 0.9935 - val_loss: 0.0731 - val_accuracy: 0.9792\n",
      "Epoch 17/20\n",
      "96/96 [==============================] - 0s 2ms/step - loss: 0.0265 - accuracy: 0.9948 - val_loss: 0.0693 - val_accuracy: 0.9740\n",
      "Epoch 18/20\n",
      "96/96 [==============================] - 0s 2ms/step - loss: 0.0222 - accuracy: 0.9961 - val_loss: 0.0574 - val_accuracy: 0.9792\n",
      "Epoch 19/20\n",
      "96/96 [==============================] - 0s 2ms/step - loss: 0.0189 - accuracy: 0.9987 - val_loss: 0.0517 - val_accuracy: 0.9792\n",
      "Epoch 20/20\n",
      "96/96 [==============================] - 0s 2ms/step - loss: 0.0156 - accuracy: 1.0000 - val_loss: 0.0532 - val_accuracy: 0.9792\n",
      "6/6 [==============================] - 0s 2ms/step - loss: 0.0532 - accuracy: 0.9792\n",
      "Test loss: 0.05318019166588783\n",
      "Test accuracy: 0.9791666865348816\n",
      "INFO:tensorflow:Assets written to: tic-tac-toe.model\\assets\n",
      "Done !\n"
     ]
    }
   ],
   "source": [
    "# your code here\n",
    "from sklearn.model_selection import train_test_split\n",
    "from tensorflow.keras.models import Sequential\n",
    "from tensorflow.keras.layers import Dense\n",
    "from tensorflow.keras.optimizers import Adam\n",
    "\n",
    "# Split the training and test data.\n",
    "X_train, X_test, y_train, y_test = train_test_split(X, y, test_size=0.2, random_state=42)\n",
    "\n",
    "# Create a `Sequential` model.\n",
    "model = Sequential()\n",
    "\n",
    "# Add several layers to your model. Make sure you use ReLU as the activation function for the middle layers. Use Softmax for the output layer because each output has a single lable and all the label probabilities add up to 1.\n",
    "model.add(Dense(32, activation='relu', input_shape=(9,)))\n",
    "model.add(Dense(16, activation='relu'))\n",
    "model.add(Dense(2, activation='softmax'))\n",
    "\n",
    "# Compile the model using `adam` as the optimizer and `sparse_categorical_crossentropy` as the loss function. For metrics, use `accuracy` for now.\n",
    "optimizer = Adam(learning_rate=0.001)\n",
    "model.compile(optimizer=optimizer, loss='sparse_categorical_crossentropy', metrics=['accuracy'])\n",
    "    \n",
    "# Fit the training data.\n",
    "model.fit(X_train, y_train, batch_size=8, epochs=20, validation_data=(X_test, y_test))\n",
    "\n",
    "# Evaluate your neural network model with the test data.\n",
    "score = model.evaluate(X_test, y_test)\n",
    "print('Test loss:', score[0])\n",
    "print('Test accuracy:', score[1])\n",
    "\n",
    "# Save your model as `tic-tac-toe.model`.\n",
    "model.save(\"tic-tac-toe.model\")\n",
    "print(\"Done !\")"
   ]
  },
  {
   "cell_type": "markdown",
   "metadata": {},
   "source": [
    "## Step 3: Make Predictions\n",
    "\n",
    "Now load your saved model and use it to make predictions on a few random rows in the test dataset. Check if the predictions are correct."
   ]
  },
  {
   "cell_type": "code",
   "execution_count": 29,
   "metadata": {},
   "outputs": [
    {
     "name": "stdout",
     "output_type": "stream",
     "text": [
      "1/1 [==============================] - 0s 166ms/step\n",
      "Sample 1: Prediction = 1, Actual = 1\n",
      "Sample 2: Prediction = 1, Actual = 1\n",
      "Sample 3: Prediction = 0, Actual = 0\n",
      "Sample 4: Prediction = 1, Actual = 1\n",
      "Sample 5: Prediction = 1, Actual = 1\n"
     ]
    }
   ],
   "source": [
    "# your code here\n",
    "from tensorflow.keras.models import load_model\n",
    "import numpy as np\n",
    "\n",
    "my_model = load_model(\"tic-tac-toe.model\")\n",
    "\n",
    "# few random rows in the test dataset\n",
    "random_rows = np.random.choice(len(X_test), 5, replace=False)\n",
    "X_sample = X_test[random_rows]\n",
    "y_sample = y_test.to_numpy()[random_rows]\n",
    "\n",
    "# predictions\n",
    "predictions = my_model.predict(X_sample)\n",
    "predicted_classes = np.argmax(predictions, axis=1)\n",
    "\n",
    "for i in range(len(X_sample)):\n",
    "    print(f\"Sample {i+1}: Prediction = {predicted_classes[i]}, Actual = {y_sample[i]}\")"
   ]
  },
  {
   "cell_type": "markdown",
   "metadata": {},
   "source": [
    "## Step 4: Improve Your Model\n",
    "\n",
    "Did your model achieve low loss (<0.1) and high accuracy (>0.95)? If not, try to improve your model.\n",
    "\n",
    "But how? There are so many things you can play with in Tensorflow and in the next challenge you'll learn about these things. But in this challenge, let's just do a few things to see if they will help.\n",
    "\n",
    "* Add more layers to your model. If the data are complex you need more layers. But don't use more layers than you need. If adding more layers does not improve the model performance you don't need additional layers.\n",
    "* Adjust the learning rate when you compile the model. This means you will create a custom `tf.keras.optimizers.Adam` instance where you specify the learning rate you want. Then pass the instance to `model.compile` as the optimizer.\n",
    "    * `tf.keras.optimizers.Adam` [reference](https://www.tensorflow.org/api_docs/python/tf/keras/optimizers/Adam).\n",
    "    * Don't worry if you don't understand what the learning rate does. You'll learn about it in the next challenge.\n",
    "* Adjust the number of epochs when you fit the training data to the model. Your model performance continues to improve as you train more epochs. But eventually it will reach the ceiling and the performance will stay the same."
   ]
  },
  {
   "cell_type": "code",
   "execution_count": null,
   "metadata": {},
   "outputs": [],
   "source": []
  },
  {
   "cell_type": "markdown",
   "metadata": {},
   "source": [
    "**Which approach(es) did you find helpful to improve your model performance?**"
   ]
  },
  {
   "cell_type": "code",
   "execution_count": null,
   "metadata": {},
   "outputs": [],
   "source": [
    "# your answer here\n",
    "'''The model already achieved a low loss (0.053) and high accuracy (97.9%) after the second challenge.\n",
    "Since the performance was already excellent, additional improvements were not necessary.\n",
    "However, in general, I found that increasing the number of layers, adjusting the learning rate, and training for more epochs can help improve model performance.\n",
    "In my case, the original architecture and settings were already well-optimized.'''"
   ]
  }
 ],
 "metadata": {
  "kernelspec": {
   "display_name": "Python 3",
   "language": "python",
   "name": "python3"
  },
  "language_info": {
   "codemirror_mode": {
    "name": "ipython",
    "version": 3
   },
   "file_extension": ".py",
   "mimetype": "text/x-python",
   "name": "python",
   "nbconvert_exporter": "python",
   "pygments_lexer": "ipython3",
   "version": "3.9.18"
  }
 },
 "nbformat": 4,
 "nbformat_minor": 2
}
